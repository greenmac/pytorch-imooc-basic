{
 "nbformat": 4,
 "nbformat_minor": 2,
 "metadata": {
  "language_info": {
   "name": "python",
   "codemirror_mode": {
    "name": "ipython",
    "version": 3
   },
   "version": "3.7.4-final"
  },
  "orig_nbformat": 2,
  "file_extension": ".py",
  "mimetype": "text/x-python",
  "name": "python",
  "npconvert_exporter": "python",
  "pygments_lexer": "ipython3",
  "version": 3,
  "kernelspec": {
   "name": "python37464bitffe8cb27ebe54e38a5cbfe3a5412e0d0",
   "display_name": "Python 3.7.4 64-bit"
  }
 },
 "cells": [
  {
   "cell_type": "code",
   "execution_count": 1,
   "metadata": {},
   "outputs": [],
   "source": [
    "import torch\n",
    "import torch.nn as nn\n",
    "import torch.nn.functional as F"
   ]
  },
  {
   "cell_type": "code",
   "execution_count": null,
   "metadata": {},
   "outputs": [],
   "source": [
    "class Net(nn.Module):\n",
    "    def __init__(self): # 定義神經網路結構, 輸入數據 1x32x32\n",
    "        super(Net, self).__init__()\n",
    "        # 第一層(卷基層)\n",
    "        self.conv1 = nn.Conv2d(1, 6, 3) # 輸入頻道1, 輸出頻道6, 卷積3x3\n",
    "        # 第二層(卷基層)\n",
    "        self.conv2 = nn.Conv2d(6, 16, 3) # 輸入頻道6, 輸出頻道16, 卷積3x3\n",
    "        # 第三層(全連接層)\n",
    "        self.fc1 = nn.Linear(16*28*28, 512) # 輸入維度16x28x28=12544, 輸出維度512\n",
    "        # 第四層(全連接層)\n",
    "        self.fc2 = nn.Linear(512, 64) # 輸入維度512, 輸出維度64\n",
    "        # 第五層(全連接層)\n",
    "        self.fc3 = nn.Linear(64, 2) # 輸入維度64, 輸出維度2\n",
    "\n",
    "    def forward(self, x): # 定義數據流向\n",
    "        x = self.conv1(x)\n",
    "        x = F.relu(x)\n",
    "\n",
    "        x = self.conv2(x)\n",
    "        x = F.relu(x)\n",
    "\n",
    "        x = x.view(-1, 16*28*28) # view=>重定型\n",
    "        x = self.fc1(x)\n",
    "        x = F.relu(x)\n",
    "\n",
    "        x = self.fc2(x)\n",
    "        x = F.relu(x)\n",
    "\n",
    "        x = self.fc3(x)\n",
    "        x = F.relu(x)"
   ]
  }
 ]
}