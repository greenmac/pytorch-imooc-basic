{
 "nbformat": 4,
 "nbformat_minor": 2,
 "metadata": {
  "language_info": {
   "name": "python",
   "codemirror_mode": {
    "name": "ipython",
    "version": 3
   },
   "version": "3.7.4-final"
  },
  "orig_nbformat": 2,
  "file_extension": ".py",
  "mimetype": "text/x-python",
  "name": "python",
  "npconvert_exporter": "python",
  "pygments_lexer": "ipython3",
  "version": 3,
  "kernelspec": {
   "name": "python37464bit235c09e77a3a4be4a0fbcd79d7c7728e",
   "display_name": "Python 3.7.4 64-bit"
  }
 },
 "cells": [
  {
   "cell_type": "code",
   "execution_count": 1,
   "metadata": {},
   "outputs": [],
   "source": [
    "import torch\n",
    "import torch.nn as nn\n",
    "import torch.nn.functional as F"
   ]
  },
  {
   "cell_type": "code",
   "execution_count": 2,
   "metadata": {},
   "outputs": [],
   "source": [
    "class Net(nn.Module):\n",
    "    def __init__(self): # 定義神經網路結構, 輸入數據 1x32x32\n",
    "        super(Net, self).__init__()\n",
    "        # 第一層(卷基層)\n",
    "        self.conv1 = nn.Conv2d(1, 6, 3) # 輸入頻道1, 輸出頻道6, 卷積3x3\n",
    "        # 第二層(卷基層)\n",
    "        self.conv2 = nn.Conv2d(6, 16, 3) # 輸入頻道6, 輸出頻道16, 卷積3x3\n",
    "        # 第三層(全連接層)\n",
    "        self.fc1 = nn.Linear(16*28*28, 512) # 輸入維度16x28x28=12544, 輸出維度512\n",
    "        # 第四層(全連接層)\n",
    "        self.fc2 = nn.Linear(512, 64) # 輸入維度512, 輸出維度64\n",
    "        # 第五層(全連接層)\n",
    "        self.fc3 = nn.Linear(64, 2) # 輸入維度64, 輸出維度2\n",
    "\n",
    "    def forward(self, x): # 定義數據流向\n",
    "        x = self.conv1(x)\n",
    "        x = F.relu(x)\n",
    "\n",
    "        x = self.conv2(x)\n",
    "        x = F.relu(x)\n",
    "\n",
    "        x = x.view(-1, 16*28*28) # view=>重定型\n",
    "        x = self.fc1(x)\n",
    "        x = F.relu(x)\n",
    "\n",
    "        x = self.fc2(x)\n",
    "        x = F.relu(x)\n",
    "\n",
    "        x = self.fc3(x)\n",
    "        \n",
    "        return x"
   ]
  },
  {
   "cell_type": "code",
   "execution_count": 3,
   "metadata": {},
   "outputs": [
    {
     "name": "stdout",
     "output_type": "stream",
     "text": "Net(\n  (conv1): Conv2d(1, 6, kernel_size=(3, 3), stride=(1, 1))\n  (conv2): Conv2d(6, 16, kernel_size=(3, 3), stride=(1, 1))\n  (fc1): Linear(in_features=12544, out_features=512, bias=True)\n  (fc2): Linear(in_features=512, out_features=64, bias=True)\n  (fc3): Linear(in_features=64, out_features=2, bias=True)\n)\n"
    }
   ],
   "source": [
    "net = Net()\n",
    "print(net)"
   ]
  },
  {
   "cell_type": "code",
   "execution_count": 4,
   "metadata": {},
   "outputs": [
    {
     "name": "stdout",
     "output_type": "stream",
     "text": "tensor([[[[ 1.1699,  0.5318,  0.0310,  ...,  0.0826,  1.4423,  0.1712],\n          [ 0.8501, -0.3419, -1.9022,  ...,  0.7012, -0.6594,  1.0875],\n          [ 0.7678,  0.4926,  0.8041,  ..., -0.7597,  0.9030,  0.0817],\n          ...,\n          [ 0.9678,  0.2502,  0.1481,  ...,  0.8088,  0.5563,  0.2808],\n          [-0.4016,  0.4271, -0.1602,  ...,  0.5440, -0.2007,  1.7349],\n          [-0.5594,  0.9364, -1.7363,  ...,  1.6732, -0.6525, -0.5336]]]])\ntorch.Size([1, 1, 32, 32])\n"
    }
   ],
   "source": [
    "# 生成隨機輸入\n",
    "input_data = torch.randn(1, 1, 32, 32)\n",
    "print(input_data)\n",
    "print(input_data.size())"
   ]
  },
  {
   "cell_type": "code",
   "execution_count": 7,
   "metadata": {},
   "outputs": [
    {
     "name": "stdout",
     "output_type": "stream",
     "text": "tensor([[0.0545, 0.0632]], grad_fn=<AddmmBackward>)\ntorch.Size([1, 2])\n"
    }
   ],
   "source": [
    "# 運行神經網路\n",
    "out = net(input_data)\n",
    "print(out)\n",
    "print(out.size())"
   ]
  },
  {
   "cell_type": "code",
   "execution_count": 24,
   "metadata": {},
   "outputs": [
    {
     "name": "stdout",
     "output_type": "stream",
     "text": "tensor([[ 0.8367, -0.8170]])\n"
    }
   ],
   "source": [
    "# 隨機生成真實值\n",
    "target = torch.randn(2)\n",
    "target = target.view(1, -1)\n",
    "print(target)"
   ]
  },
  {
   "cell_type": "code",
   "execution_count": 25,
   "metadata": {},
   "outputs": [
    {
     "name": "stdout",
     "output_type": "stream",
     "text": "tensor(0.8312, grad_fn=<L1LossBackward>)\n"
    }
   ],
   "source": [
    "criterion = nn.L1Loss() # 絕對誤差平均值\n",
    "loss = criterion(out, target)\n",
    "print(loss)"
   ]
  },
  {
   "cell_type": "code",
   "execution_count": 26,
   "metadata": {},
   "outputs": [],
   "source": [
    "# 反向傳遞\n",
    "net.zero_grad() # 清零梯度\n",
    "loss.backward() # 自動計算梯度, 反向傳遞"
   ]
  },
  {
   "cell_type": "code",
   "execution_count": 28,
   "metadata": {},
   "outputs": [],
   "source": [
    "import torch.optim as optim\n",
    "\n",
    "optimizer = optim.SGD(net.parameters(), lr=0.01)\n",
    "optimizer.step()"
   ]
  },
  {
   "cell_type": "code",
   "execution_count": 29,
   "metadata": {},
   "outputs": [
    {
     "name": "stdout",
     "output_type": "stream",
     "text": "tensor([[0.0926, 0.0315]], grad_fn=<AddmmBackward>)\ntorch.Size([1, 2])\n"
    }
   ],
   "source": [
    "out = net(input_data)\n",
    "print(out)\n",
    "print(out.size())"
   ]
  },
  {
   "cell_type": "code",
   "execution_count": 30,
   "metadata": {},
   "outputs": [
    {
     "name": "stdout",
     "output_type": "stream",
     "text": "tensor(0.7963, grad_fn=<L1LossBackward>)\n"
    }
   ],
   "source": [
    "criterion = nn.L1Loss() # 絕對誤差平均值\n",
    "loss = criterion(out, target)\n",
    "print(loss)"
   ]
  },
  {
   "cell_type": "code",
   "execution_count": null,
   "metadata": {},
   "outputs": [],
   "source": []
  }
 ]
}